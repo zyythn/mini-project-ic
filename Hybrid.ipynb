{
  "cells": [
    {
      "cell_type": "markdown",
      "metadata": {
        "id": "view-in-github",
        "colab_type": "text"
      },
      "source": [
        "<a href=\"https://colab.research.google.com/github/zyythn/mini-project-ic/blob/main/Hybrid.ipynb\" target=\"_parent\"><img src=\"https://colab.research.google.com/assets/colab-badge.svg\" alt=\"Open In Colab\"/></a>"
      ]
    },
    {
      "cell_type": "code",
      "execution_count": null,
      "metadata": {
        "id": "ThOM_ErymLWM"
      },
      "outputs": [],
      "source": [
        "import numpy as np\n",
        "import pandas as pd\n",
        "import tensorflow as tf\n",
        "from tensorflow.keras.models import Sequential\n",
        "from tensorflow.keras.layers import Dense\n",
        "from tensorflow.keras.callbacks import ModelCheckpoint\n",
        "from sklearn.model_selection import train_test_split\n",
        "from sklearn.preprocessing import StandardScaler\n",
        "import random"
      ]
    },
    {
      "cell_type": "code",
      "execution_count": null,
      "metadata": {
        "id": "gn5mOzsbsymV"
      },
      "outputs": [],
      "source": [
        "data = pd.read_csv('/content/drive/MyDrive/heart_attack_data.csv')"
      ]
    },
    {
      "cell_type": "code",
      "execution_count": null,
      "metadata": {
        "id": "ctfW5wFus4ad"
      },
      "outputs": [],
      "source": [
        "X = data.drop('Output', axis=1).values\n",
        "y = data['Output'].values\n",
        "\n",
        "scaler = StandardScaler()\n",
        "X = scaler.fit_transform(X)\n",
        "\n",
        "X_train, X_test, y_train, y_test = train_test_split(X, y, test_size=0.2, random_state=42)"
      ]
    },
    {
      "cell_type": "code",
      "execution_count": null,
      "metadata": {
        "id": "sGfsXcpHtA6N"
      },
      "outputs": [],
      "source": [
        "#Define the ANN model architecture\n",
        "def create_model():\n",
        "    model = Sequential()\n",
        "    model.add(Dense(64, activation='relu', input_shape=(X_train.shape[1],)))\n",
        "    model.add(Dense(32, activation='relu'))\n",
        "    model.add(Dense(1, activation='sigmoid'))\n",
        "    return model"
      ]
    },
    {
      "cell_type": "code",
      "execution_count": null,
      "metadata": {
        "id": "28o3XahrtEIM"
      },
      "outputs": [],
      "source": [
        "def fitness_function(individual):\n",
        "    model = create_model()\n",
        "    model.set_weights(individual)\n",
        "    model.compile(optimizer='adam', loss='binary_crossentropy', metrics=['accuracy'])\n",
        "    fitness = model.evaluate(X_train, y_train, verbose=0)[1]\n",
        "    return fitness"
      ]
    },
    {
      "cell_type": "code",
      "execution_count": null,
      "metadata": {
        "id": "ANkFGvLYtRuy"
      },
      "outputs": [],
      "source": [
        "def initialize_population(population_size):\n",
        "    population = []\n",
        "    for _ in range(population_size):\n",
        "        individual = create_model().get_weights()\n",
        "        population.append(individual)\n",
        "    return population\n",
        "\n",
        "def crossover(parent1, parent2):\n",
        "    child = []\n",
        "    for i in range(len(parent1)):\n",
        "        if random.random() < 0.5:\n",
        "            child.append(parent1[i])\n",
        "        else:\n",
        "            child.append(parent2[i])\n",
        "    return child\n",
        "\n",
        "def mutate(individual, mutation_rate):\n",
        "    for i in range(len(individual)):\n",
        "        if random.random() < mutation_rate:\n",
        "            individual[i] += np.random.normal(0, 0.1, individual[i].shape)\n",
        "    return individual\n",
        "\n",
        "def select_parents(population, fitness_values):\n",
        "    fitness_sum = sum(fitness_values)\n",
        "    probabilities = [fitness / fitness_sum for fitness in fitness_values]\n",
        "    parent1 = random.choices(population, probabilities)[0]\n",
        "    parent2 = random.choices(population, probabilities)[0]\n",
        "    return parent1, parent2\n",
        "\n",
        "def evolve_population(population, fitness_values, elite_size, mutation_rate):\n",
        "    new_population = []\n",
        "    sorted_indices = np.argsort(fitness_values)[::-1]\n",
        "    elite = [population[i] for i in sorted_indices[:elite_size]]\n",
        "    new_population.extend(elite)\n",
        "\n",
        "    while len(new_population) < len(population):\n",
        "        parent1, parent2 = select_parents(population, fitness_values)\n",
        "        child = crossover(parent1, parent2)\n",
        "        child = mutate(child, mutation_rate)\n",
        "        new_population.append(child)\n",
        "\n",
        "    return new_population"
      ]
    },
    {
      "cell_type": "code",
      "execution_count": null,
      "metadata": {
        "colab": {
          "base_uri": "https://localhost:8080/"
        },
        "id": "LIetc-20tnqd",
        "outputId": "40cc27a5-9637-409d-ecda-6b464dc30af9"
      },
      "outputs": [
        {
          "output_type": "stream",
          "name": "stdout",
          "text": [
            "Generation 1: Best Fitness = 0.6348074078559875\n",
            "Generation 2: Best Fitness = 0.6407988667488098\n",
            "Generation 3: Best Fitness = 0.6407988667488098\n",
            "Generation 4: Best Fitness = 0.6409415006637573\n",
            "Generation 5: Best Fitness = 0.6416547894477844\n",
            "Generation 6: Best Fitness = 0.6413694620132446\n",
            "Generation 7: Best Fitness = 0.6417974233627319\n",
            "Generation 8: Best Fitness = 0.6407988667488098\n",
            "Generation 9: Best Fitness = 0.6420827507972717\n",
            "Generation 10: Best Fitness = 0.6409415006637573\n"
          ]
        }
      ],
      "source": [
        "population_size = 50\n",
        "elite_size = 5\n",
        "mutation_rate = 0.1\n",
        "generations = 10\n",
        "\n",
        "population = initialize_population(population_size)\n",
        "\n",
        "for generation in range(generations):\n",
        "    fitness_values = [fitness_function(individual) for individual in population]\n",
        "    population = evolve_population(population, fitness_values, elite_size, mutation_rate)\n",
        "    best_individual = population[0]\n",
        "    best_fitness = fitness_function(best_individual)\n",
        "    print(f\"Generation {generation+1}: Best Fitness = {best_fitness}\")\n",
        "\n",
        "best_model = create_model()\n",
        "best_model.set_weights(best_individual)"
      ]
    },
    {
      "cell_type": "code",
      "source": [
        "print(f\"Best Fitness: {best_fitness*100:.2f}%\")"
      ],
      "metadata": {
        "colab": {
          "base_uri": "https://localhost:8080/"
        },
        "id": "fEdKYnJ5QwXT",
        "outputId": "f6801938-e77a-418f-a8fa-47be9c60f58e"
      },
      "execution_count": null,
      "outputs": [
        {
          "output_type": "stream",
          "name": "stdout",
          "text": [
            "Best Fitness: 64.09%\n"
          ]
        }
      ]
    }
  ],
  "metadata": {
    "colab": {
      "provenance": [],
      "mount_file_id": "1-Zaxy9oFdP3FNJaJe0_L6kgCTic-Wn2X",
      "authorship_tag": "ABX9TyOwbLQxl3dDRu7wJ8tbbBr6",
      "include_colab_link": true
    },
    "kernelspec": {
      "display_name": "Python 3",
      "name": "python3"
    },
    "language_info": {
      "name": "python"
    }
  },
  "nbformat": 4,
  "nbformat_minor": 0
}